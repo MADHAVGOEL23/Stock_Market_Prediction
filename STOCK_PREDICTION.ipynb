 # Predicting Stock Price using a HMM and LSTM Model

import numpy as np
import pandas as pd
import yfinance as yf
from hmmlearn.hmm import GaussianHMM
from sklearn.preprocessing import MinMaxScaler
from sklearn.model_selection import train_test_split
from tensorflow.keras.models import Sequential
from tensorflow.keras.layers import Dense, LSTM, Dropout

# Downloading historical stock data
def get_stock_data(ticker, start_date, end_date):
    stock_data = yf.download(ticker, start=start_date, end=end_date)
    stock_data = stock_data[['Open', 'High', 'Low', 'Close', 'Volume']]
    return stock_data

# Using Feature Engineering
def compute_features(data):
    data['Open-Close'] = data['Open'] - data['Close']
    data['High-Low'] = data['High'] - data['Low']
    data['Return'] = data['Close'].pct_change()
    data['LogReturn'] = np.log(data['Close'] / data['Close'].shift(1))
    data = data.dropna()
    return data[['Open-Close', 'High-Low', 'Return', 'LogReturn']]

# Training Hidden Markov Model
def train_hmm(X_train, n_components=4):
    model = GaussianHMM(n_components=n_components, covariance_type="diag", n_iter=1000)
    model.fit(X_train)
    return model

# Preparing LSTM Model Input
def prepare_lstm_input(data, window_size):
    X, y = [], []
    for i in range(window_size, len(data)):
        X.append(data[i-window_size:i])
        y.append(data[i])
    return np.array(X), np.array(y)

# Building LSTM Model
def build_lstm_model(input_shape):
    model = Sequential()
    model.add(LSTM(units=50, return_sequences=True, input_shape=input_shape))
    model.add(Dropout(0.2))
    model.add(LSTM(units=50, return_sequences=False))
    model.add(Dropout(0.2))
    model.add(Dense(units=25))
    model.add(Dense(units=1))
    model.compile(optimizer='adam', loss='mean_squared_error')
    return model

# Loading Data
ticker = 'ITC'
start_date = '2020-01-01'
end_date = '2023-01-01'
stock_data = get_stock_data(ticker, start_date, end_date)

# Using Feature Engineering
X = compute_features(stock_data)

# Spliting the data into train and test sets
X_train, X_test = train_test_split(X, test_size=0.3, shuffle=False)

# Training HMM Model
hmm_model = train_hmm(X_train)

# Predicting hidden states for the entire dataset
hidden_states = hmm_model.predict(X)

# Adding hidden states to the feature set
X['Hidden State'] = hidden_states

# Preparing LSTM data
scaler = MinMaxScaler(feature_range=(0, 1))
scaled_data = scaler.fit_transform(stock_data['Close'].values.reshape(-1, 1))

window_size = 60
X_lstm, y_lstm = prepare_lstm_input(scaled_data, window_size)

# Spliting data into train and test sets for LSTM
train_size = int(len(X_lstm) * 0.8)
X_lstm_train, y_lstm_train = X_lstm[:train_size], y_lstm[:train_size]
X_lstm_test, y_lstm_test = X_lstm[train_size:], y_lstm[train_size:]

# Building and training LSTM model
lstm_model = build_lstm_model((X_lstm_train.shape[1], X_lstm_train.shape[2]))
lstm_model.fit(X_lstm_train, y_lstm_train, batch_size=32, epochs=50, validation_data=(X_lstm_test, y_lstm_test))

# Predicting stock prices using the LSTM model
predicted_stock_price = lstm_model.predict(X_lstm_test)
predicted_stock_price = scaler.inverse_transform(predicted_stock_price)

# Plotting the results
import matplotlib.pyplot as plt

plt.figure(figsize=(16, 8))
plt.plot(stock_data['Close'].iloc[-len(predicted_stock_price):].index, scaler.inverse_transform(y_lstm_test.reshape(-1, 1)), color='blue', label='Actual Stock Price')
plt.plot(stock_data['Close'].iloc[-len(predicted_stock_price):].index, predicted_stock_price, color='red', label='Predicted Stock Price')
plt.title('Stock Price Prediction')
plt.xlabel('Date')
plt.ylabel('Stock Price')
plt.legend()
plt.show()
